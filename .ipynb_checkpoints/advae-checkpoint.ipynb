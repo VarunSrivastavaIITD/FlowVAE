{
 "cells": [
  {
   "cell_type": "code",
   "execution_count": 6,
   "metadata": {},
   "outputs": [],
   "source": [
    "import numpy as np\n",
    "import torch\n",
    "from torch import optim\n",
    "from tqdm import tqdm\n",
    "from pprint import pprint\n",
    "from torchvision import datasets, transforms\n",
    "import matplotlib\n",
    "matplotlib.use('Agg')\n",
    "import matplotlib.pyplot as plt\n",
    "import os\n",
    "import models\n",
    "from torch.utils.tensorboard import SummaryWriter\n",
    "from utils.load_model import save_checkpoint, load_checkpoint\n",
    "import argparse\n",
    "import skimage.io\n",
    "device = torch.device(\"cuda\" if torch.cuda.is_available() else \"cpu\")"
   ]
  },
  {
   "cell_type": "code",
   "execution_count": 2,
   "metadata": {},
   "outputs": [],
   "source": [
    "def get_mnist_data(device, reshape=True):\n",
    "    def my_transform(x):\n",
    "        if reshape:\n",
    "            return x.to(device).reshape(-1)\n",
    "        else:\n",
    "            return x.to(device)\n",
    "    preprocess = transforms.Compose([transforms.ToTensor(),my_transform])\n",
    "    train_loader = torch.utils.data.DataLoader(\n",
    "        datasets.MNIST(\"data\", train=True, download=True, transform=preprocess),\n",
    "        batch_size=100,\n",
    "        shuffle=True,\n",
    "    )\n",
    "    test_loader = torch.utils.data.DataLoader(\n",
    "        datasets.MNIST(\"data\", train=False, download=True, transform=preprocess),\n",
    "        batch_size=100,\n",
    "        shuffle=True,\n",
    "    )\n",
    "\n",
    "    return train_loader, test_loader\n",
    "\n",
    "def noisy_soft_labels(labels):\n",
    "    noisy = torch.bernoulli(0.9*labels+0.05)\n",
    "    noisy_soft = torch.where(noisy==0, torch.rand_like(noisy)*0.3, torch.rand_like(noisy)*0.7+0.5)\n",
    "    return noisy_soft"
   ]
  },
  {
   "cell_type": "code",
   "execution_count": 7,
   "metadata": {},
   "outputs": [
    {
     "name": "stderr",
     "output_type": "stream",
     "text": [
      "usage: ipykernel_launcher.py [-h] [--ae_mode AE_MODE] [--train_ae TRAIN_AE]\n",
      "                             [--ae_epoch AE_EPOCH] [--gen_mode GEN_MODE]\n",
      "                             [--train_gen TRAIN_GEN] [--gen_epoch GEN_EPOCH]\n",
      "                             [--save_images SAVE_IMAGES]\n",
      "ipykernel_launcher.py: error: unrecognized arguments: -f /run/user/1015/jupyter/kernel-ff623710-2a54-4676-ba37-39033c3c85da.json\n"
     ]
    },
    {
     "ename": "SystemExit",
     "evalue": "2",
     "output_type": "error",
     "traceback": [
      "An exception has occurred, use %tb to see the full traceback.\n",
      "\u001b[0;31mSystemExit\u001b[0m\u001b[0;31m:\u001b[0m 2\n"
     ]
    },
    {
     "name": "stderr",
     "output_type": "stream",
     "text": [
      "/usr/local/lib/python3.6/dist-packages/IPython/core/interactiveshell.py:2969: UserWarning: To exit: use 'exit', 'quit', or Ctrl-D.\n",
      "  warn(\"To exit: use 'exit', 'quit', or Ctrl-D.\", stacklevel=1)\n"
     ]
    }
   ],
   "source": [
    "parser = argparse.ArgumentParser()\n",
    "parser.add_argument('--ae_mode', default='conv', help=\"Autoencoder mode : ae or conv\")\n",
    "parser.add_argument('--train_ae', type=int, default=5, help=\"Number of epochs to train autoencoder\")\n",
    "parser.add_argument('--ae_epoch', type=int, default=5, help=\"Epoch of AE model to load\")\n",
    "parser.add_argument('--gen_mode', default='w', help=\"Generator mode : n, w\")\n",
    "parser.add_argument('--train_gen', type=int, default=40, help=\"Number of epochs to train generator\")\n",
    "parser.add_argument('--gen_epoch', type=int, default=40, help=\"Epoch of gen model\")\n",
    "parser.add_argument('--save_images', type=int, default=0, help=\"Save generated images\")\n",
    "args = parser.parse_args()\n",
    "\n",
    "args = \n",
    "train_loader, test_loader = get_mnist_data(device, reshape=(args.ae_mode==\"ae\"))\n",
    "num_epochs1 = args.train_ae\n",
    "num_epochs2 = args.train_gen\n",
    "x_dim = 784\n",
    "z_dim = 10\n",
    "z0_dim = 10\n",
    "save_path = 'checkpoints'"
   ]
  },
  {
   "cell_type": "code",
   "execution_count": 5,
   "metadata": {},
   "outputs": [
    {
     "name": "stdout",
     "output_type": "stream",
     "text": [
      "Training Encoder-Decoder .............\n",
      "Epoch 1 : E-D train loss = 4.30e+00 test loss = 4.36e+00\n",
      "Traceback (most recent call last):\n",
      "  File \"advae.py\", line 124, in <module>\n",
      "    plt.hist(z[:,k].cpu().numpy(), bins=100)\n",
      "  File \"/usr/local/lib/python3.6/dist-packages/matplotlib/pyplot.py\", line 3122, in hist\n",
      "    ax = gca()\n",
      "  File \"/usr/local/lib/python3.6/dist-packages/matplotlib/pyplot.py\", line 969, in gca\n",
      "    return gcf().gca(**kwargs)\n",
      "  File \"/usr/local/lib/python3.6/dist-packages/matplotlib/pyplot.py\", line 586, in gcf\n",
      "    return figure()\n",
      "  File \"/usr/local/lib/python3.6/dist-packages/matplotlib/pyplot.py\", line 533, in figure\n",
      "    **kwargs)\n",
      "  File \"/usr/local/lib/python3.6/dist-packages/matplotlib/backend_bases.py\", line 161, in new_figure_manager\n",
      "    return cls.new_figure_manager_given_figure(num, fig)\n",
      "  File \"/usr/local/lib/python3.6/dist-packages/matplotlib/backends/_backend_tk.py\", line 1046, in new_figure_manager_given_figure\n",
      "    window = Tk.Tk(className=\"matplotlib\")\n",
      "  File \"/usr/lib/python3.6/tkinter/__init__.py\", line 2023, in __init__\n",
      "    self.tk = _tkinter.create(screenName, baseName, className, interactive, wantobjects, useTk, sync, use)\n",
      "_tkinter.TclError: no display name and no $DISPLAY environment variable\n"
     ]
    }
   ],
   "source": []
  },
  {
   "cell_type": "code",
   "execution_count": 11,
   "metadata": {},
   "outputs": [],
   "source": [
    "args = {'a':1,'B':2}"
   ]
  },
  {
   "cell_type": "raw",
   "metadata": {},
   "source": []
  },
  {
   "cell_type": "code",
   "execution_count": null,
   "metadata": {},
   "outputs": [],
   "source": []
  }
 ],
 "metadata": {
  "kernelspec": {
   "display_name": "Python 3",
   "language": "python",
   "name": "python3"
  },
  "language_info": {
   "codemirror_mode": {
    "name": "ipython",
    "version": 3
   },
   "file_extension": ".py",
   "mimetype": "text/x-python",
   "name": "python",
   "nbconvert_exporter": "python",
   "pygments_lexer": "ipython3",
   "version": "3.6.8"
  }
 },
 "nbformat": 4,
 "nbformat_minor": 2
}
